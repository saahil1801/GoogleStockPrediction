{
 "cells": [
  {
   "cell_type": "code",
   "execution_count": 1,
   "id": "d06ef85b",
   "metadata": {},
   "outputs": [],
   "source": [
    "import numpy as np\n",
    "import pandas as pd\n",
    "import matplotlib.pyplot as plt"
   ]
  },
  {
   "cell_type": "code",
   "execution_count": 2,
   "id": "1ecadfa3",
   "metadata": {},
   "outputs": [],
   "source": [
    "df1=pd.read_csv('Google_Stock_Price_Train.csv')"
   ]
  },
  {
   "cell_type": "code",
   "execution_count": 4,
   "id": "5b662696",
   "metadata": {},
   "outputs": [],
   "source": [
    "training_set=df1.iloc[:,1:2].values"
   ]
  },
  {
   "cell_type": "code",
   "execution_count": 5,
   "id": "75f0163a",
   "metadata": {},
   "outputs": [],
   "source": [
    "from sklearn.preprocessing import MinMaxScaler\n",
    "sc=MinMaxScaler(feature_range=(0,1))\n"
   ]
  },
  {
   "cell_type": "code",
   "execution_count": 6,
   "id": "27861aa2",
   "metadata": {},
   "outputs": [],
   "source": [
    "training_set=sc.fit_transform(training_set)"
   ]
  },
  {
   "cell_type": "code",
   "execution_count": 8,
   "id": "c70eb88c",
   "metadata": {},
   "outputs": [],
   "source": [
    "x_train=[]\n",
    "y_train=[]\n",
    "for i in range(60,1258):\n",
    "    x_train.append(training_set[i-60:i,0])\n",
    "    y_train.append(training_set[i,0])"
   ]
  },
  {
   "cell_type": "code",
   "execution_count": 9,
   "id": "076142d3",
   "metadata": {},
   "outputs": [],
   "source": [
    "x_train,y_train=np.array(x_train),np.array(y_train)"
   ]
  },
  {
   "cell_type": "code",
   "execution_count": 11,
   "id": "77a0ecc6",
   "metadata": {},
   "outputs": [],
   "source": [
    "x_train=np.reshape(x_train,(x_train.shape[0],x_train.shape[1],1))"
   ]
  },
  {
   "cell_type": "code",
   "execution_count": 12,
   "id": "2055b734",
   "metadata": {},
   "outputs": [
    {
     "data": {
      "text/plain": [
       "(1198, 60, 1)"
      ]
     },
     "execution_count": 12,
     "metadata": {},
     "output_type": "execute_result"
    }
   ],
   "source": [
    "x_train.shape"
   ]
  },
  {
   "cell_type": "code",
   "execution_count": 14,
   "id": "05d844be",
   "metadata": {},
   "outputs": [],
   "source": [
    "from keras.models import Sequential\n",
    "from keras.layers import Dense\n",
    "from keras.layers import LSTM\n",
    "from keras.layers import Dropout"
   ]
  },
  {
   "cell_type": "code",
   "execution_count": 15,
   "id": "eb304851",
   "metadata": {},
   "outputs": [],
   "source": [
    "rgr=Sequential()"
   ]
  },
  {
   "cell_type": "code",
   "execution_count": 17,
   "id": "b17ae89c",
   "metadata": {},
   "outputs": [],
   "source": [
    "rgr.add(LSTM(units=50,return_sequences=True,input_shape=(x_train.shape[1],1)))\n",
    "rgr.add(Dropout(0.2))"
   ]
  },
  {
   "cell_type": "code",
   "execution_count": 18,
   "id": "9bc1c07c",
   "metadata": {},
   "outputs": [],
   "source": [
    "rgr.add(LSTM(units=50,return_sequences=True))\n",
    "rgr.add(Dropout(0.2))"
   ]
  },
  {
   "cell_type": "code",
   "execution_count": 19,
   "id": "2473645f",
   "metadata": {},
   "outputs": [],
   "source": [
    "rgr.add(LSTM(units=50,return_sequences=True))\n",
    "rgr.add(Dropout(0.2))"
   ]
  },
  {
   "cell_type": "code",
   "execution_count": 21,
   "id": "1ca9108d",
   "metadata": {},
   "outputs": [],
   "source": [
    "rgr.add(LSTM(units=50))\n",
    "rgr.add(Dropout(0.2))"
   ]
  },
  {
   "cell_type": "code",
   "execution_count": 22,
   "id": "b855c670",
   "metadata": {},
   "outputs": [],
   "source": [
    "rgr.add(Dense(units=1))"
   ]
  },
  {
   "cell_type": "code",
   "execution_count": 67,
   "id": "64f79b6b",
   "metadata": {},
   "outputs": [],
   "source": [
    "rgr.compile(optimizer='adam',loss='mean_squared_error')"
   ]
  },
  {
   "cell_type": "code",
   "execution_count": null,
   "id": "b75337b5",
   "metadata": {},
   "outputs": [],
   "source": []
  },
  {
   "cell_type": "code",
   "execution_count": 68,
   "id": "93dd2a23",
   "metadata": {},
   "outputs": [
    {
     "name": "stdout",
     "output_type": "stream",
     "text": [
      "Epoch 1/200\n",
      "38/38 [==============================] - 7s 60ms/step - loss: 0.0011\n",
      "Epoch 2/200\n",
      "38/38 [==============================] - 2s 63ms/step - loss: 9.4584e-04\n",
      "Epoch 3/200\n",
      "38/38 [==============================] - 3s 68ms/step - loss: 9.8238e-04\n",
      "Epoch 4/200\n",
      "38/38 [==============================] - 3s 72ms/step - loss: 9.7140e-04\n",
      "Epoch 5/200\n",
      "38/38 [==============================] - 3s 66ms/step - loss: 8.6992e-04: 0s - loss: 8.6992e-0\n",
      "Epoch 6/200\n",
      "38/38 [==============================] - 3s 68ms/step - loss: 0.0011\n",
      "Epoch 7/200\n",
      "38/38 [==============================] - 3s 69ms/step - loss: 9.2479e-04\n",
      "Epoch 8/200\n",
      "38/38 [==============================] - 3s 69ms/step - loss: 0.0010\n",
      "Epoch 9/200\n",
      "38/38 [==============================] - 3s 75ms/step - loss: 9.5534e-04\n",
      "Epoch 10/200\n",
      "38/38 [==============================] - 3s 77ms/step - loss: 0.0011\n",
      "Epoch 11/200\n",
      "38/38 [==============================] - 3s 72ms/step - loss: 9.3251e-04\n",
      "Epoch 12/200\n",
      "38/38 [==============================] - 3s 72ms/step - loss: 0.0011\n",
      "Epoch 13/200\n",
      "38/38 [==============================] - 3s 73ms/step - loss: 8.8657e-04\n",
      "Epoch 14/200\n",
      "38/38 [==============================] - 3s 73ms/step - loss: 9.4924e-04\n",
      "Epoch 15/200\n",
      "38/38 [==============================] - 3s 79ms/step - loss: 8.6248e-04\n",
      "Epoch 16/200\n",
      "38/38 [==============================] - 3s 77ms/step - loss: 0.0010\n",
      "Epoch 17/200\n",
      "38/38 [==============================] - 3s 74ms/step - loss: 8.8358e-04\n",
      "Epoch 18/200\n",
      "38/38 [==============================] - 3s 74ms/step - loss: 9.2977e-04\n",
      "Epoch 19/200\n",
      "38/38 [==============================] - 3s 76ms/step - loss: 9.7189e-04\n",
      "Epoch 20/200\n",
      "38/38 [==============================] - 3s 82ms/step - loss: 8.6262e-04\n",
      "Epoch 21/200\n",
      "38/38 [==============================] - 3s 88ms/step - loss: 9.8449e-04\n",
      "Epoch 22/200\n",
      "38/38 [==============================] - 3s 78ms/step - loss: 9.9793e-04\n",
      "Epoch 23/200\n",
      "38/38 [==============================] - 3s 76ms/step - loss: 9.0739e-04\n",
      "Epoch 24/200\n",
      "38/38 [==============================] - 3s 76ms/step - loss: 8.4249e-04\n",
      "Epoch 25/200\n",
      "38/38 [==============================] - 3s 76ms/step - loss: 9.1326e-04\n",
      "Epoch 26/200\n",
      "38/38 [==============================] - 3s 87ms/step - loss: 0.0011\n",
      "Epoch 27/200\n",
      "38/38 [==============================] - 3s 83ms/step - loss: 8.4014e-04\n",
      "Epoch 28/200\n",
      "38/38 [==============================] - 3s 75ms/step - loss: 9.8366e-04\n",
      "Epoch 29/200\n",
      "38/38 [==============================] - 3s 76ms/step - loss: 8.7540e-04\n",
      "Epoch 30/200\n",
      "38/38 [==============================] - 3s 91ms/step - loss: 9.6542e-04: 0s - loss: 9.6542e-0\n",
      "Epoch 31/200\n",
      "38/38 [==============================] - 4s 107ms/step - loss: 8.4852e-04\n",
      "Epoch 32/200\n",
      "38/38 [==============================] - 3s 89ms/step - loss: 7.8870e-04\n",
      "Epoch 33/200\n",
      "38/38 [==============================] - 3s 76ms/step - loss: 9.9631e-04\n",
      "Epoch 34/200\n",
      "38/38 [==============================] - 3s 75ms/step - loss: 0.0010\n",
      "Epoch 35/200\n",
      "38/38 [==============================] - 3s 77ms/step - loss: 9.6374e-04\n",
      "Epoch 36/200\n",
      "38/38 [==============================] - 3s 88ms/step - loss: 0.0010\n",
      "Epoch 37/200\n",
      "38/38 [==============================] - 3s 84ms/step - loss: 8.4048e-04\n",
      "Epoch 38/200\n",
      "38/38 [==============================] - 3s 76ms/step - loss: 9.8846e-04\n",
      "Epoch 39/200\n",
      "38/38 [==============================] - 3s 76ms/step - loss: 8.7735e-04\n",
      "Epoch 40/200\n",
      "38/38 [==============================] - 3s 77ms/step - loss: 8.9148e-04\n",
      "Epoch 41/200\n",
      "38/38 [==============================] - 3s 86ms/step - loss: 8.9027e-04\n",
      "Epoch 42/200\n",
      "38/38 [==============================] - 3s 85ms/step - loss: 0.0011\n",
      "Epoch 43/200\n",
      "38/38 [==============================] - 3s 77ms/step - loss: 8.6343e-04\n",
      "Epoch 44/200\n",
      "38/38 [==============================] - 3s 75ms/step - loss: 8.9236e-04\n",
      "Epoch 45/200\n",
      "38/38 [==============================] - 3s 76ms/step - loss: 7.9154e-04\n",
      "Epoch 46/200\n",
      "38/38 [==============================] - 3s 81ms/step - loss: 8.9703e-04\n",
      "Epoch 47/200\n",
      "38/38 [==============================] - 3s 89ms/step - loss: 0.0010\n",
      "Epoch 48/200\n",
      "38/38 [==============================] - 3s 77ms/step - loss: 9.9990e-04\n",
      "Epoch 49/200\n",
      "38/38 [==============================] - 3s 77ms/step - loss: 8.2464e-04\n",
      "Epoch 50/200\n",
      "38/38 [==============================] - 3s 76ms/step - loss: 9.3629e-04\n",
      "Epoch 51/200\n",
      "38/38 [==============================] - 3s 84ms/step - loss: 9.2647e-04\n",
      "Epoch 52/200\n",
      "38/38 [==============================] - 3s 92ms/step - loss: 9.7199e-04\n",
      "Epoch 53/200\n",
      "38/38 [==============================] - 3s 90ms/step - loss: 9.5048e-04\n",
      "Epoch 54/200\n",
      "38/38 [==============================] - 3s 79ms/step - loss: 8.4570e-04\n",
      "Epoch 55/200\n",
      "38/38 [==============================] - 3s 76ms/step - loss: 8.5121e-04\n",
      "Epoch 56/200\n",
      "38/38 [==============================] - 4s 93ms/step - loss: 8.8108e-04\n",
      "Epoch 57/200\n",
      "38/38 [==============================] - 3s 90ms/step - loss: 9.7417e-04\n",
      "Epoch 58/200\n",
      "38/38 [==============================] - 3s 80ms/step - loss: 9.8390e-04\n",
      "Epoch 59/200\n",
      "38/38 [==============================] - 3s 77ms/step - loss: 8.2166e-04\n",
      "Epoch 60/200\n",
      "38/38 [==============================] - 3s 77ms/step - loss: 8.3825e-04\n",
      "Epoch 61/200\n",
      "38/38 [==============================] - 3s 81ms/step - loss: 8.5707e-04\n",
      "Epoch 62/200\n",
      "38/38 [==============================] - 3s 90ms/step - loss: 8.5888e-04\n",
      "Epoch 63/200\n",
      "38/38 [==============================] - 3s 80ms/step - loss: 9.1251e-04\n",
      "Epoch 64/200\n",
      "38/38 [==============================] - 3s 76ms/step - loss: 0.0011\n",
      "Epoch 65/200\n",
      "38/38 [==============================] - 3s 78ms/step - loss: 9.0472e-04\n",
      "Epoch 66/200\n",
      "38/38 [==============================] - 3s 77ms/step - loss: 9.7654e-04\n",
      "Epoch 67/200\n",
      "38/38 [==============================] - 3s 90ms/step - loss: 8.9930e-04\n",
      "Epoch 68/200\n",
      "38/38 [==============================] - 3s 84ms/step - loss: 8.9790e-04\n",
      "Epoch 69/200\n",
      "38/38 [==============================] - 3s 78ms/step - loss: 8.7068e-04\n",
      "Epoch 70/200\n",
      "38/38 [==============================] - 3s 79ms/step - loss: 8.5461e-04\n",
      "Epoch 71/200\n",
      "38/38 [==============================] - 3s 83ms/step - loss: 9.3914e-04\n",
      "Epoch 72/200\n",
      "38/38 [==============================] - 3s 90ms/step - loss: 8.4429e-04\n",
      "Epoch 73/200\n",
      "38/38 [==============================] - 3s 85ms/step - loss: 8.4688e-04\n",
      "Epoch 74/200\n",
      "38/38 [==============================] - 3s 76ms/step - loss: 9.5491e-04\n",
      "Epoch 75/200\n",
      "38/38 [==============================] - 3s 77ms/step - loss: 9.5104e-04\n",
      "Epoch 76/200\n",
      "38/38 [==============================] - 3s 77ms/step - loss: 9.0406e-04\n",
      "Epoch 77/200\n",
      "38/38 [==============================] - 3s 85ms/step - loss: 7.9918e-04\n",
      "Epoch 78/200\n",
      "38/38 [==============================] - 3s 89ms/step - loss: 8.7679e-04\n",
      "Epoch 79/200\n",
      "38/38 [==============================] - 3s 77ms/step - loss: 8.3720e-04\n",
      "Epoch 80/200\n",
      "38/38 [==============================] - 3s 76ms/step - loss: 8.3782e-04\n",
      "Epoch 81/200\n",
      "38/38 [==============================] - 3s 77ms/step - loss: 8.5041e-04\n",
      "Epoch 82/200\n",
      "38/38 [==============================] - 3s 82ms/step - loss: 8.5153e-04\n",
      "Epoch 83/200\n",
      "38/38 [==============================] - 3s 88ms/step - loss: 9.7335e-04\n",
      "Epoch 84/200\n",
      "38/38 [==============================] - 3s 79ms/step - loss: 9.4943e-04\n",
      "Epoch 85/200\n",
      "38/38 [==============================] - 3s 77ms/step - loss: 8.6276e-04\n",
      "Epoch 86/200\n",
      "38/38 [==============================] - 3s 77ms/step - loss: 9.7521e-04\n",
      "Epoch 87/200\n",
      "38/38 [==============================] - 3s 81ms/step - loss: 7.6825e-04\n",
      "Epoch 88/200\n",
      "38/38 [==============================] - 4s 97ms/step - loss: 8.2001e-04\n",
      "Epoch 89/200\n",
      "38/38 [==============================] - 3s 82ms/step - loss: 7.7783e-04\n",
      "Epoch 90/200\n",
      "38/38 [==============================] - 3s 78ms/step - loss: 9.2285e-04\n",
      "Epoch 91/200\n",
      "38/38 [==============================] - 3s 77ms/step - loss: 8.0318e-04\n",
      "Epoch 92/200\n",
      "38/38 [==============================] - 3s 79ms/step - loss: 8.9806e-04\n",
      "Epoch 93/200\n",
      "38/38 [==============================] - 3s 89ms/step - loss: 8.3534e-04\n",
      "Epoch 94/200\n",
      "38/38 [==============================] - 3s 82ms/step - loss: 8.4296e-04\n",
      "Epoch 95/200\n",
      "38/38 [==============================] - 3s 77ms/step - loss: 8.1190e-04\n",
      "Epoch 96/200\n"
     ]
    },
    {
     "name": "stdout",
     "output_type": "stream",
     "text": [
      "38/38 [==============================] - 3s 80ms/step - loss: 8.3633e-04\n",
      "Epoch 97/200\n",
      "38/38 [==============================] - 3s 77ms/step - loss: 9.0146e-04\n",
      "Epoch 98/200\n",
      "38/38 [==============================] - 3s 90ms/step - loss: 8.6522e-04\n",
      "Epoch 99/200\n",
      "38/38 [==============================] - 3s 88ms/step - loss: 8.2964e-04\n",
      "Epoch 100/200\n",
      "38/38 [==============================] - 3s 77ms/step - loss: 7.7191e-04\n",
      "Epoch 101/200\n",
      "38/38 [==============================] - 3s 78ms/step - loss: 8.9752e-04\n",
      "Epoch 102/200\n",
      "38/38 [==============================] - 3s 77ms/step - loss: 8.4693e-04\n",
      "Epoch 103/200\n",
      "38/38 [==============================] - 3s 83ms/step - loss: 9.4060e-04\n",
      "Epoch 104/200\n",
      "38/38 [==============================] - 3s 85ms/step - loss: 9.3999e-04\n",
      "Epoch 105/200\n",
      "38/38 [==============================] - 3s 78ms/step - loss: 8.5480e-04\n",
      "Epoch 106/200\n",
      "38/38 [==============================] - 3s 76ms/step - loss: 8.0521e-04\n",
      "Epoch 107/200\n",
      "38/38 [==============================] - 3s 77ms/step - loss: 7.6204e-04\n",
      "Epoch 108/200\n",
      "38/38 [==============================] - 3s 82ms/step - loss: 9.0767e-04\n",
      "Epoch 109/200\n",
      "38/38 [==============================] - 3s 89ms/step - loss: 8.7433e-04\n",
      "Epoch 110/200\n",
      "38/38 [==============================] - 3s 77ms/step - loss: 8.5888e-04\n",
      "Epoch 111/200\n",
      "38/38 [==============================] - 3s 77ms/step - loss: 8.9910e-04\n",
      "Epoch 112/200\n",
      "38/38 [==============================] - 3s 77ms/step - loss: 8.5581e-04\n",
      "Epoch 113/200\n",
      "38/38 [==============================] - 3s 80ms/step - loss: 7.9043e-04\n",
      "Epoch 114/200\n",
      "38/38 [==============================] - 3s 84ms/step - loss: 7.9068e-04\n",
      "Epoch 115/200\n",
      "38/38 [==============================] - 3s 80ms/step - loss: 8.8087e-04\n",
      "Epoch 116/200\n",
      "38/38 [==============================] - 3s 78ms/step - loss: 7.7918e-04\n",
      "Epoch 117/200\n",
      "38/38 [==============================] - 3s 78ms/step - loss: 9.6818e-04\n",
      "Epoch 118/200\n",
      "38/38 [==============================] - 3s 78ms/step - loss: 8.3109e-04\n",
      "Epoch 119/200\n",
      "38/38 [==============================] - 3s 83ms/step - loss: 7.7883e-04\n",
      "Epoch 120/200\n",
      "38/38 [==============================] - 3s 81ms/step - loss: 7.3705e-04\n",
      "Epoch 121/200\n",
      "38/38 [==============================] - 3s 78ms/step - loss: 8.3997e-04\n",
      "Epoch 122/200\n",
      "38/38 [==============================] - 3s 78ms/step - loss: 0.0010\n",
      "Epoch 123/200\n",
      "38/38 [==============================] - 3s 77ms/step - loss: 9.4246e-04\n",
      "Epoch 124/200\n",
      "38/38 [==============================] - 3s 83ms/step - loss: 8.9771e-04\n",
      "Epoch 125/200\n",
      "38/38 [==============================] - 3s 84ms/step - loss: 8.8343e-04\n",
      "Epoch 126/200\n",
      "38/38 [==============================] - 3s 79ms/step - loss: 8.1234e-04\n",
      "Epoch 127/200\n",
      "38/38 [==============================] - 3s 78ms/step - loss: 8.3784e-04\n",
      "Epoch 128/200\n",
      "38/38 [==============================] - 3s 77ms/step - loss: 8.2560e-04\n",
      "Epoch 129/200\n",
      "38/38 [==============================] - 3s 81ms/step - loss: 9.6599e-04\n",
      "Epoch 130/200\n",
      "38/38 [==============================] - 3s 85ms/step - loss: 8.8996e-04\n",
      "Epoch 131/200\n",
      "38/38 [==============================] - 3s 77ms/step - loss: 7.7146e-04\n",
      "Epoch 132/200\n",
      "38/38 [==============================] - 3s 78ms/step - loss: 7.6894e-04\n",
      "Epoch 133/200\n",
      "38/38 [==============================] - 3s 78ms/step - loss: 7.8417e-04\n",
      "Epoch 134/200\n",
      "38/38 [==============================] - 3s 80ms/step - loss: 8.3128e-04\n",
      "Epoch 135/200\n",
      "38/38 [==============================] - 3s 86ms/step - loss: 8.3239e-04\n",
      "Epoch 136/200\n",
      "38/38 [==============================] - 3s 82ms/step - loss: 9.0980e-04\n",
      "Epoch 137/200\n",
      "38/38 [==============================] - 3s 78ms/step - loss: 7.9559e-04\n",
      "Epoch 138/200\n",
      "38/38 [==============================] - 3s 78ms/step - loss: 8.5565e-04\n",
      "Epoch 139/200\n",
      "38/38 [==============================] - 3s 78ms/step - loss: 7.6712e-04\n",
      "Epoch 140/200\n",
      "38/38 [==============================] - 3s 85ms/step - loss: 9.0309e-04\n",
      "Epoch 141/200\n",
      "38/38 [==============================] - 3s 82ms/step - loss: 8.4522e-04\n",
      "Epoch 142/200\n",
      "38/38 [==============================] - 3s 79ms/step - loss: 8.3169e-04\n",
      "Epoch 143/200\n",
      "38/38 [==============================] - 3s 79ms/step - loss: 8.5566e-04\n",
      "Epoch 144/200\n",
      "38/38 [==============================] - 3s 78ms/step - loss: 8.3904e-04\n",
      "Epoch 145/200\n",
      "38/38 [==============================] - 3s 84ms/step - loss: 8.7035e-04\n",
      "Epoch 146/200\n",
      "38/38 [==============================] - 4s 112ms/step - loss: 8.2285e-04\n",
      "Epoch 147/200\n",
      "38/38 [==============================] - 3s 85ms/step - loss: 8.4520e-04\n",
      "Epoch 148/200\n",
      "38/38 [==============================] - 3s 79ms/step - loss: 8.9819e-04\n",
      "Epoch 149/200\n",
      "38/38 [==============================] - 3s 78ms/step - loss: 9.3697e-04\n",
      "Epoch 150/200\n",
      "38/38 [==============================] - 3s 89ms/step - loss: 8.2620e-04\n",
      "Epoch 151/200\n",
      "38/38 [==============================] - 3s 84ms/step - loss: 8.6373e-04\n",
      "Epoch 152/200\n",
      "38/38 [==============================] - 3s 79ms/step - loss: 8.5943e-04\n",
      "Epoch 153/200\n",
      "38/38 [==============================] - 3s 79ms/step - loss: 8.2251e-04\n",
      "Epoch 154/200\n",
      "38/38 [==============================] - 3s 79ms/step - loss: 8.1768e-04\n",
      "Epoch 155/200\n",
      "38/38 [==============================] - 3s 85ms/step - loss: 8.2789e-04\n",
      "Epoch 156/200\n",
      "38/38 [==============================] - 3s 82ms/step - loss: 7.4600e-04\n",
      "Epoch 157/200\n",
      "38/38 [==============================] - 3s 79ms/step - loss: 8.3261e-04\n",
      "Epoch 158/200\n",
      "38/38 [==============================] - 3s 79ms/step - loss: 8.4475e-04\n",
      "Epoch 159/200\n",
      "38/38 [==============================] - 3s 79ms/step - loss: 9.2238e-04\n",
      "Epoch 160/200\n",
      "38/38 [==============================] - 3s 83ms/step - loss: 8.1995e-04\n",
      "Epoch 161/200\n",
      "38/38 [==============================] - 3s 85ms/step - loss: 7.8059e-04\n",
      "Epoch 162/200\n",
      "38/38 [==============================] - 3s 79ms/step - loss: 8.6226e-04\n",
      "Epoch 163/200\n",
      "38/38 [==============================] - 3s 79ms/step - loss: 8.3480e-04\n",
      "Epoch 164/200\n",
      "38/38 [==============================] - 3s 79ms/step - loss: 7.7372e-04\n",
      "Epoch 165/200\n",
      "38/38 [==============================] - 3s 85ms/step - loss: 8.4976e-04\n",
      "Epoch 166/200\n",
      "38/38 [==============================] - 4s 93ms/step - loss: 8.9101e-04\n",
      "Epoch 167/200\n",
      "38/38 [==============================] - 4s 102ms/step - loss: 7.7314e-04\n",
      "Epoch 168/200\n",
      "38/38 [==============================] - 3s 89ms/step - loss: 8.0003e-04: 0s - loss: \n",
      "Epoch 169/200\n",
      "38/38 [==============================] - 3s 79ms/step - loss: 7.7995e-04\n",
      "Epoch 170/200\n",
      "38/38 [==============================] - 3s 90ms/step - loss: 8.3297e-04\n",
      "Epoch 171/200\n",
      "38/38 [==============================] - 4s 98ms/step - loss: 7.3213e-04\n",
      "Epoch 172/200\n",
      "38/38 [==============================] - 4s 95ms/step - loss: 9.1973e-04\n",
      "Epoch 173/200\n",
      "38/38 [==============================] - 3s 85ms/step - loss: 8.5706e-04\n",
      "Epoch 174/200\n",
      "38/38 [==============================] - 3s 80ms/step - loss: 8.7418e-04\n",
      "Epoch 175/200\n",
      "38/38 [==============================] - 3s 91ms/step - loss: 9.0367e-04\n",
      "Epoch 176/200\n",
      "38/38 [==============================] - 3s 84ms/step - loss: 8.1794e-04\n",
      "Epoch 177/200\n",
      "38/38 [==============================] - 3s 80ms/step - loss: 8.8942e-04\n",
      "Epoch 178/200\n",
      "38/38 [==============================] - 3s 81ms/step - loss: 7.6050e-04\n",
      "Epoch 179/200\n",
      "38/38 [==============================] - 3s 79ms/step - loss: 8.2244e-04\n",
      "Epoch 180/200\n",
      "38/38 [==============================] - 3s 86ms/step - loss: 7.6604e-04\n",
      "Epoch 181/200\n",
      "38/38 [==============================] - 3s 90ms/step - loss: 8.4919e-04\n",
      "Epoch 182/200\n",
      "38/38 [==============================] - 3s 89ms/step - loss: 7.4582e-04\n",
      "Epoch 183/200\n",
      "38/38 [==============================] - 3s 82ms/step - loss: 7.4682e-04\n",
      "Epoch 184/200\n",
      "38/38 [==============================] - 3s 81ms/step - loss: 8.6474e-04\n",
      "Epoch 185/200\n",
      "38/38 [==============================] - 3s 88ms/step - loss: 7.4364e-04\n",
      "Epoch 186/200\n",
      "38/38 [==============================] - 3s 84ms/step - loss: 8.0880e-04\n",
      "Epoch 187/200\n",
      "38/38 [==============================] - 3s 81ms/step - loss: 7.6166e-04\n",
      "Epoch 188/200\n",
      "38/38 [==============================] - 3s 79ms/step - loss: 7.8090e-04\n",
      "Epoch 189/200\n",
      "38/38 [==============================] - 3s 79ms/step - loss: 9.6525e-04\n",
      "Epoch 190/200\n"
     ]
    },
    {
     "name": "stdout",
     "output_type": "stream",
     "text": [
      "38/38 [==============================] - 3s 89ms/step - loss: 8.3014e-04\n",
      "Epoch 191/200\n",
      "38/38 [==============================] - 3s 85ms/step - loss: 8.2816e-04\n",
      "Epoch 192/200\n",
      "38/38 [==============================] - 3s 79ms/step - loss: 8.1877e-04\n",
      "Epoch 193/200\n",
      "38/38 [==============================] - 3s 80ms/step - loss: 8.4293e-04\n",
      "Epoch 194/200\n",
      "38/38 [==============================] - 3s 80ms/step - loss: 7.5110e-04\n",
      "Epoch 195/200\n",
      "38/38 [==============================] - 3s 87ms/step - loss: 7.5244e-04\n",
      "Epoch 196/200\n",
      "38/38 [==============================] - 3s 84ms/step - loss: 7.7810e-04\n",
      "Epoch 197/200\n",
      "38/38 [==============================] - 3s 79ms/step - loss: 8.1672e-04\n",
      "Epoch 198/200\n",
      "38/38 [==============================] - 3s 80ms/step - loss: 8.5289e-04\n",
      "Epoch 199/200\n",
      "38/38 [==============================] - 3s 80ms/step - loss: 7.7664e-04\n",
      "Epoch 200/200\n",
      "38/38 [==============================] - 3s 85ms/step - loss: 8.0140e-04\n"
     ]
    },
    {
     "data": {
      "text/plain": [
       "<keras.callbacks.History at 0x1e8665b4b38>"
      ]
     },
     "execution_count": 68,
     "metadata": {},
     "output_type": "execute_result"
    }
   ],
   "source": [
    "rgr.fit(x_train,y_train,epochs=200,batch_size=32)"
   ]
  },
  {
   "cell_type": "code",
   "execution_count": 69,
   "id": "50425390",
   "metadata": {},
   "outputs": [],
   "source": [
    "df2=pd.read_csv('Google_Stock_Price_Test.csv')"
   ]
  },
  {
   "cell_type": "code",
   "execution_count": 70,
   "id": "cf83591d",
   "metadata": {},
   "outputs": [],
   "source": [
    "df3=pd.concat((df1['Open'],df2['Open']),axis=0)"
   ]
  },
  {
   "cell_type": "code",
   "execution_count": 71,
   "id": "2d2b3ec6",
   "metadata": {},
   "outputs": [],
   "source": [
    "inputs=df3[len(df3)-len(df2)-60:].values"
   ]
  },
  {
   "cell_type": "code",
   "execution_count": 72,
   "id": "f5a519b0",
   "metadata": {},
   "outputs": [],
   "source": [
    "inputs=inputs.reshape(-1,1)"
   ]
  },
  {
   "cell_type": "code",
   "execution_count": 73,
   "id": "6ad25c69",
   "metadata": {},
   "outputs": [],
   "source": [
    "inputs=sc.transform(inputs)"
   ]
  },
  {
   "cell_type": "code",
   "execution_count": 74,
   "id": "9c9cdc6c",
   "metadata": {},
   "outputs": [],
   "source": [
    "x_test=[]"
   ]
  },
  {
   "cell_type": "code",
   "execution_count": 75,
   "id": "c1c6a469",
   "metadata": {},
   "outputs": [],
   "source": [
    "for i in range(60,80):\n",
    "    x_test.append(inputs[i-60:i,0])"
   ]
  },
  {
   "cell_type": "code",
   "execution_count": 76,
   "id": "b092b512",
   "metadata": {},
   "outputs": [
    {
     "data": {
      "text/plain": [
       "20"
      ]
     },
     "execution_count": 76,
     "metadata": {},
     "output_type": "execute_result"
    }
   ],
   "source": [
    "len(x_test)"
   ]
  },
  {
   "cell_type": "code",
   "execution_count": 77,
   "id": "64eedb0c",
   "metadata": {},
   "outputs": [],
   "source": [
    "x_test=np.array(x_test)"
   ]
  },
  {
   "cell_type": "code",
   "execution_count": 78,
   "id": "0b75f233",
   "metadata": {},
   "outputs": [],
   "source": [
    "x_test = np.reshape(x_test, (x_test.shape[0], x_test.shape[1], 1))"
   ]
  },
  {
   "cell_type": "code",
   "execution_count": 79,
   "id": "5060f955",
   "metadata": {},
   "outputs": [
    {
     "data": {
      "text/plain": [
       "(20, 60, 1)"
      ]
     },
     "execution_count": 79,
     "metadata": {},
     "output_type": "execute_result"
    }
   ],
   "source": [
    "x_test.shape"
   ]
  },
  {
   "cell_type": "code",
   "execution_count": 80,
   "id": "e22756d6",
   "metadata": {},
   "outputs": [],
   "source": [
    "pdr=rgr.predict(x_test)"
   ]
  },
  {
   "cell_type": "code",
   "execution_count": 81,
   "id": "fcfddc93",
   "metadata": {},
   "outputs": [],
   "source": [
    "pdr=sc.inverse_transform(pdr)"
   ]
  },
  {
   "cell_type": "code",
   "execution_count": 82,
   "id": "6887ddf5",
   "metadata": {},
   "outputs": [],
   "source": [
    "rdr=df2.iloc[:,1:2].values"
   ]
  },
  {
   "cell_type": "code",
   "execution_count": 83,
   "id": "d8895909",
   "metadata": {},
   "outputs": [
    {
     "data": {
      "image/png": "[encoded data removed]",
      "text/plain": [
       "<Figure size 432x288 with 1 Axes>"
      ]
     },
     "metadata": {
      "needs_background": "light"
     },
     "output_type": "display_data"
    }
   ],
   "source": [
    "plt.plot(rdr,color='red')\n",
    "plt.plot(pdr,color='blue')\n",
    "plt.show()"
   ]
  },
  {
   "cell_type": "code",
   "execution_count": null,
   "id": "250389bb",
   "metadata": {},
   "outputs": [],
   "source": []
  }
 ],
 "metadata": {
  "kernelspec": {
   "display_name": "Python 3 (ipykernel)",
   "language": "python",
   "name": "python3"
  },
  "language_info": {
   "codemirror_mode": {
    "name": "ipython",
    "version": 3
   },
   "file_extension": ".py",
   "mimetype": "text/x-python",
   "name": "python",
   "nbconvert_exporter": "python",
   "pygments_lexer": "ipython3",
   "version": "3.10.13"
  }
 },
 "nbformat": 4,
 "nbformat_minor": 5
}
